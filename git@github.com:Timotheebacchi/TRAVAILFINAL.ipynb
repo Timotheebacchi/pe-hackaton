{
 "cells": [
  {
   "cell_type": "code",
   "execution_count": 40,
   "id": "8093f85c-9978-4776-adde-d527e907330e",
   "metadata": {},
   "outputs": [],
   "source": [
    "import numpy as np\n",
    "import exact_cover as ec\n",
    "RAW_SHAPES = {\n",
    "    \"F\": np.array([[1, 1, 0], [0, 1, 1], [0, 1, 0]]),\n",
    "    \"I\": np.array([[1, 1, 1, 1, 1]]),\n",
    "    \"L\": np.array([[1, 0, 0, 0], [1, 1, 1, 1]]),\n",
    "    \"N\": np.array([[1, 1, 0, 0], [0, 1, 1, 1]]),\n",
    "    \"P\": np.array([[1, 1, 1], [1, 1, 0]]),\n",
    "    \"T\": np.array([[1, 1, 1], [0, 1, 0], [0, 1, 0]]),\n",
    "    \"U\": np.array([[1, 1, 1], [1, 0, 1]]),\n",
    "    \"V\": np.array([[1, 1, 1], [1, 0, 0], [1, 0, 0]]),\n",
    "    \"W\": np.array([[1, 0, 0], [1, 1, 0], [0, 1, 1]]),\n",
    "    \"X\": np.array([[0, 1, 0], [1, 1, 1], [0, 1, 0]]),\n",
    "    \"Y\": np.array([[0, 1, 0, 0], [1, 1, 1, 1]]),\n",
    "    \"Z\": np.array([[1, 1, 0], [0, 1, 0], [0, 1, 1]])\n",
    "}\n",
    "\n",
    "def nombre_de_symetries(d, nb_rotations):\n",
    "    nouvelles_lettres = {}\n",
    "    for j, lettre_initiale in d.items():\n",
    "        symetries = []\n",
    "        for _ in range(nb_rotations):\n",
    "            symetries.append(lettre_initiale)\n",
    "            symetries.append(np.transpose(lettre_initiale))\n",
    "            lettre_initiale = np.rot90(lettre_initiale)\n",
    "        nouvelles_lettres[j] = symetries\n",
    "    return nouvelles_lettres\n",
    "            \n",
    "\n",
    "def traductions(dictionnaire, n, p):\n",
    "    dico_positions = {}\n",
    "    for lettre, liste_symetries in dictionnaire.items():\n",
    "        dico_positions[lettre] = []\n",
    "        for sym in liste_symetries:\n",
    "            h, l = sym.shape\n",
    "            for k in range(n - h + 1):\n",
    "                for z in range(p - l + 1):\n",
    "                    cadre = np.zeros((n, p))\n",
    "                    for i in range(h):\n",
    "                        for j in range(l):\n",
    "                            cadre[k + i][z + j] = sym[i][j]\n",
    "                    dico_positions[lettre].append(np.ravel(cadre))\n",
    "    return dico_positions\n",
    "\n",
    "\n",
    "        "
   ]
  },
  {
   "cell_type": "code",
   "execution_count": 42,
   "id": "c4c6e1a0-5873-4800-92d8-9dd466151467",
   "metadata": {},
   "outputs": [
    {
     "name": "stdout",
     "output_type": "stream",
     "text": [
      "[[1 0 0 ... 0 0 0]\n",
      " [1 0 0 ... 0 0 0]\n",
      " [1 0 0 ... 0 0 0]\n",
      " ...\n",
      " [0 0 0 ... 0 0 0]\n",
      " [0 0 0 ... 1 0 0]\n",
      " [0 0 0 ... 1 1 0]]\n"
     ]
    },
    {
     "ename": "NameError",
     "evalue": "name 'get_exact_cover' is not defined",
     "output_type": "error",
     "traceback": [
      "\u001b[0;31m---------------------------------------------------------------------------\u001b[0m",
      "\u001b[0;31mNameError\u001b[0m                                 Traceback (most recent call last)",
      "Cell \u001b[0;32mIn[42], line 23\u001b[0m\n\u001b[1;32m     19\u001b[0m matrice_finale \u001b[38;5;241m=\u001b[39m np\u001b[38;5;241m.\u001b[39marray(toto)\u001b[38;5;241m.\u001b[39mastype(\u001b[38;5;28mint\u001b[39m)\n\u001b[1;32m     20\u001b[0m \u001b[38;5;28mprint\u001b[39m(matrice_finale)\n\u001b[0;32m---> 23\u001b[0m LE_RESULTAT \u001b[38;5;241m=\u001b[39m \u001b[43mget_exact_cover\u001b[49m(matrice_finale)\n",
      "\u001b[0;31mNameError\u001b[0m: name 'get_exact_cover' is not defined"
     ]
    }
   ],
   "source": [
    "dico = nombre_de_symetries(RAW_SHAPES,4)\n",
    "out = traductions(dico,12,5)\n",
    "\n",
    "toto = []\n",
    "\n",
    "translator = {}\n",
    "nkeys = len(out.keys())\n",
    "counter = 0\n",
    "for key in out.keys():\n",
    "    tmp = [0]*nkeys\n",
    "    tmp[counter] = 1\n",
    "    translator[key] = tmp \n",
    "    counter += 1\n",
    "\n",
    "for key, value in out.items():\n",
    "    for row in value:\n",
    "        toto.append( translator[key] + row.tolist() )\n",
    "\n",
    "matrice_finale = np.array(toto).astype(int)\n",
    "print(matrice_finale)\n",
    "\n",
    "\n",
    "LE_RESULTAT = get_exact_cover(matrice_finale)"
   ]
  },
  {
   "cell_type": "code",
   "execution_count": null,
   "id": "c253aaa5-c6ce-4f95-8653-d8835908b436",
   "metadata": {},
   "outputs": [],
   "source": []
  }
 ],
 "metadata": {
  "kernelspec": {
   "display_name": "Python 3 (ipykernel)",
   "language": "python",
   "name": "python3"
  },
  "language_info": {
   "codemirror_mode": {
    "name": "ipython",
    "version": 3
   },
   "file_extension": ".py",
   "mimetype": "text/x-python",
   "name": "python",
   "nbconvert_exporter": "python",
   "pygments_lexer": "ipython3",
   "version": "3.11.4"
  }
 },
 "nbformat": 4,
 "nbformat_minor": 5
}
